{
 "cells": [
  {
   "cell_type": "code",
   "execution_count": null,
   "metadata": {},
   "outputs": [],
   "source": [
    "from config.arxiv_sage import *\n",
    "\n",
    "from dataset import *\n",
    "from model import *\n",
    "from tools import *\n",
    "from AES import AESTrainer\n",
    "\n",
    "from torch_geometric.loader import NeighborSampler\n",
    "from loader import SubgraphSampler"
   ]
  },
  {
   "cell_type": "markdown",
   "metadata": {},
   "source": [
    "# Train"
   ]
  },
  {
   "cell_type": "code",
   "execution_count": null,
   "metadata": {},
   "outputs": [],
   "source": [
    "args = ARGS()\n",
    "if args.save_dir!='' and not os.path.exists(args.save_dir):\n",
    "    os.mkdir(args.save_dir)\n",
    "\n",
    "data = get_dataset(args.dataset, args.path)\n",
    "device = torch.device(f'cuda:{args.device}' if torch.cuda.is_available() else 'cpu')\n",
    "if args.model == 'SAGE':\n",
    "    model = SAGE(data.num_features, args.hidden_channels,\n",
    "                    data.num_classes, args.num_layers,\n",
    "                    args.dropout, args.use_bn).to(device)\n",
    "elif args.model == 'GAT':\n",
    "    model = GAT(data.num_features, args.hidden_channels,\n",
    "                 data.num_classes, args.num_layers,\n",
    "                 heads=4).to(device)\n",
    "else:\n",
    "    print('Not supported now!')\n",
    "\n",
    "ss_loader = SubgraphSampler(data, num_parts=args.num_parts, batch_size=args.batch_size, shuffle=True, num_workers=args.ss_num_workers)\n",
    "cc_loader = NeighborSampler(data.adj_t, node_idx=data.train_mask.nonzero().squeeze(), \n",
    "                            batch_size=1024, shuffle=True, \n",
    "                            num_workers=args.cc_num_workers, \n",
    "                            sizes=[15,10,5], return_e_id=False)\n",
    "\n",
    "model.reset_parameters()\n",
    "optimizer = torch.optim.Adam(model.parameters(), lr=args.lr)\n",
    "trainer = AESTrainer(args, cc_loader, ss_loader, test_loader=None)"
   ]
  },
  {
   "cell_type": "code",
   "execution_count": null,
   "metadata": {},
   "outputs": [],
   "source": [
    "trainer.run(model, device, optimizer)"
   ]
  },
  {
   "cell_type": "markdown",
   "metadata": {},
   "source": [
    "# Test\n",
    "Evaluate saved models if ```args.save_dir!=''``` "
   ]
  },
  {
   "cell_type": "code",
   "execution_count": null,
   "metadata": {},
   "outputs": [],
   "source": [
    "model_eval = torch.load(f'{args.save_dir}/model-{epoch}.pt')\n",
    "test(model_eval, data, device, test_loader=None)"
   ]
  }
 ],
 "metadata": {
  "kernelspec": {
   "display_name": "salient",
   "language": "python",
   "name": "python3"
  },
  "language_info": {
   "codemirror_mode": {
    "name": "ipython",
    "version": 3
   },
   "file_extension": ".py",
   "mimetype": "text/x-python",
   "name": "python",
   "nbconvert_exporter": "python",
   "pygments_lexer": "ipython3",
   "version": "3.8.13"
  }
 },
 "nbformat": 4,
 "nbformat_minor": 2
}
